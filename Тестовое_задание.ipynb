{
  "nbformat": 4,
  "nbformat_minor": 0,
  "metadata": {
    "colab": {
      "provenance": [],
      "authorship_tag": "ABX9TyPsUsXtzxvlvreTn7+LhFtK",
      "include_colab_link": true
    },
    "kernelspec": {
      "name": "python3",
      "display_name": "Python 3"
    },
    "language_info": {
      "name": "python"
    }
  },
  "cells": [
    {
      "cell_type": "markdown",
      "metadata": {
        "id": "view-in-github",
        "colab_type": "text"
      },
      "source": [
        "<a href=\"https://colab.research.google.com/github/visurm76/Test/blob/main/%D0%A2%D0%B5%D1%81%D1%82%D0%BE%D0%B2%D0%BE%D0%B5_%D0%B7%D0%B0%D0%B4%D0%B0%D0%BD%D0%B8%D0%B5.ipynb\" target=\"_parent\"><img src=\"https://colab.research.google.com/assets/colab-badge.svg\" alt=\"Open In Colab\"/></a>"
      ]
    },
    {
      "cell_type": "code",
      "execution_count": 2,
      "metadata": {
        "colab": {
          "base_uri": "https://localhost:8080/"
        },
        "id": "H032SDfs9RQJ",
        "outputId": "5b0688e4-aa27-4eb0-a215-f992498ebfcb"
      },
      "outputs": [
        {
          "output_type": "stream",
          "name": "stdout",
          "text": [
            "Введите целое число (для выхода введите 0): 66\n",
            "Введите целое число (для выхода введите 0): 100\n",
            "Введите целое число (для выхода введите 0): 0\n",
            "Число с максимальной суммой цифр: 66\n"
          ]
        }
      ],
      "source": [
        "# Функция подсчета суммы цифр\n",
        "def sum_of_digits(num):\n",
        "    return sum(map(int, str(num)))\n",
        "\n",
        "max_sum = 0\n",
        "num_with_max_sum = 0\n",
        "\n",
        "while True:\n",
        "    num = int(input(\"Введите целое число (для выхода введите 0): \"))\n",
        "    if num == 0:\n",
        "        break\n",
        "    curr_sum = sum_of_digits(num)\n",
        "    if curr_sum > max_sum:\n",
        "        max_sum, num_with_max_sum = curr_sum, num\n",
        "\n",
        "print(f\"Число с максимальной суммой цифр: {num_with_max_sum}\")\n"
      ]
    }
  ]
}